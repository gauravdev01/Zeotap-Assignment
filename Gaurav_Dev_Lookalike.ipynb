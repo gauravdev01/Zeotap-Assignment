{
  "nbformat": 4,
  "nbformat_minor": 0,
  "metadata": {
    "colab": {
      "provenance": []
    },
    "kernelspec": {
      "name": "python3",
      "display_name": "Python 3"
    },
    "language_info": {
      "name": "python"
    }
  },
  "cells": [
    {
      "cell_type": "code",
      "source": [
        "import pandas as pd\n",
        "from sklearn.preprocessing import StandardScaler\n",
        "from sklearn.metrics.pairwise import cosine_similarity\n",
        "\n",
        "merged_data = pd.merge(customer_data, purchase_history, on='CustomerID')\n",
        "merged_data = pd.merge(merged_data, product_data, on='ProductID')\n",
        "\n",
        "feature_data = merged_data.groupby('CustomerID').agg({\n",
        "    'Price': 'sum',\n",
        "    'ProductID': 'count',\n",
        "    'Category': lambda x: ','.join(x)\n",
        "}).reset_index()\n",
        "\n",
        "feature_data['Category'] = feature_data['Category'].apply(lambda x: x.split(','))\n",
        "feature_data = feature_data.explode('Category')\n",
        "feature_data = pd.get_dummies(feature_data, columns=['Category'])\n",
        "scaler = StandardScaler()\n",
        "feature_data[['Price', 'ProductID']] = scaler.fit_transform(feature_data[['Price', 'ProductID']])\n",
        "\n",
        "similarity_matrix = cosine_similarity(feature_data.drop_duplicates('CustomerID').drop('CustomerID', axis=1))\n",
        "\n",
        "similarity_df = pd.DataFrame(similarity_matrix, index=feature_data['CustomerID'].unique(), columns=feature_data['CustomerID'].unique())\n",
        "\n",
        "lookalike_map = {}\n",
        "\n",
        "for customer_id in similarity_df.index[:20]:\n",
        "    user_index = similarity_df.index.get_loc(customer_id)\n",
        "    similar_customers = similarity_df.iloc[user_index].sort_values(ascending=False).index[1:4]\n",
        "    similarity_scores = similarity_df.iloc[user_index].sort_values(ascending=False).values[1:4]\n",
        "    lookalike_map[customer_id] = [(similar_customers[i], similarity_scores[i]) for i in range(len(similar_customers))]\n",
        "\n",
        "lookalike_df = pd.DataFrame.from_dict(lookalike_map, orient='index')\n",
        "lookalike_df.columns = ['Lookalike1', 'Lookalike2', 'Lookalike3']\n",
        "\n",
        "formatted_lookalike_df = lookalike_df.applymap(lambda x: f\"{x[0]} ({x[1]:.2f})\")\n",
        "\n",
        "formatted_lookalike_df.to_csv('Lookalike.csv', header=True, index_label='CustomerID')\n",
        "\n",
        "print(\"Formatted Lookalike Data:\")\n",
        "print(formatted_lookalike_df)\n"
      ],
      "metadata": {
        "colab": {
          "base_uri": "https://localhost:8080/"
        },
        "id": "coYEW6g2rjHy",
        "outputId": "c17aa77c-a90d-47cb-d5cf-8aca36f1e77e"
      },
      "execution_count": 33,
      "outputs": [
        {
          "output_type": "stream",
          "name": "stdout",
          "text": [
            "Formatted Lookalike Data:\n",
            "         Lookalike1    Lookalike2    Lookalike3\n",
            "C0001  C0009 (0.62)  C0019 (0.62)  C0014 (0.62)\n",
            "C0002  C0011 (0.59)  C0016 (0.59)  C0006 (0.59)\n",
            "C0003  C0007 (0.65)  C0017 (0.65)  C0012 (0.65)\n",
            "C0004  C0008 (0.98)  C0018 (0.98)  C0013 (0.98)\n",
            "C0005  C0020 (0.35)  C0015 (0.35)  C0010 (0.35)\n",
            "C0006  C0016 (1.00)  C0006 (1.00)  C0009 (0.99)\n",
            "C0007  C0017 (1.00)  C0012 (1.00)  C0003 (0.65)\n",
            "C0008  C0013 (1.00)  C0008 (1.00)  C0004 (0.98)\n",
            "C0009  C0019 (1.00)  C0014 (1.00)  C0011 (0.99)\n",
            "C0010  C0010 (1.00)  C0015 (1.00)  C0005 (0.35)\n",
            "C0011  C0016 (1.00)  C0006 (1.00)  C0009 (0.99)\n",
            "C0012  C0017 (1.00)  C0012 (1.00)  C0003 (0.65)\n",
            "C0013  C0013 (1.00)  C0008 (1.00)  C0004 (0.98)\n",
            "C0014  C0019 (1.00)  C0014 (1.00)  C0011 (0.99)\n",
            "C0015  C0010 (1.00)  C0015 (1.00)  C0005 (0.35)\n",
            "C0016  C0016 (1.00)  C0006 (1.00)  C0009 (0.99)\n",
            "C0017  C0017 (1.00)  C0012 (1.00)  C0003 (0.65)\n",
            "C0018  C0013 (1.00)  C0008 (1.00)  C0004 (0.98)\n",
            "C0019  C0019 (1.00)  C0014 (1.00)  C0011 (0.99)\n",
            "C0020  C0010 (1.00)  C0015 (1.00)  C0005 (0.35)\n"
          ]
        },
        {
          "output_type": "stream",
          "name": "stderr",
          "text": [
            "<ipython-input-33-5c6a5d6e861f>:35: FutureWarning: DataFrame.applymap has been deprecated. Use DataFrame.map instead.\n",
            "  formatted_lookalike_df = lookalike_df.applymap(lambda x: f\"{x[0]} ({x[1]:.2f})\")\n"
          ]
        }
      ]
    }
  ]
}